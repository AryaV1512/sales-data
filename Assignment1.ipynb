{
 "cells": [
  {
   "cell_type": "code",
   "execution_count": 27,
   "metadata": {},
   "outputs": [],
   "source": [
    "##Importing libraries\n",
    "import sqlite3\n",
    "import json\n",
    "import requests\n",
    "import os"
   ]
  },
  {
   "cell_type": "code",
   "execution_count": 2,
   "metadata": {},
   "outputs": [],
   "source": [
    "api_url=\"http://api.petpooja.com/V1/orders/get_sales_data\""
   ]
  },
  {
   "cell_type": "code",
   "execution_count": 30,
   "metadata": {},
   "outputs": [],
   "source": [
    "##fetching data from api and changing the field\n",
    "response=requests.get(api_url)\n",
    "data=response.json()\n",
    "type(data)\n",
    "transformed_data = {\n",
    "        \"Sale Date\": data.get(\"Receipt Date\"),\n",
    "        \"Transaction ID\": data.get(\"Receipt number\"),\n",
    "        \"Sale Amount\": data.get(\"Invoice amount\"),\n",
    "        \"Discount Amount\": data.get(\"Discount amount\"),\n",
    "        \"Tax Amount\": data.get(\"Tax amount\"),\n",
    "        \"Final Sale Amount\": data.get(\"Net sale\"),\n",
    "        \"Sale Type\": data.get(\"Transaction status\")#sale/return\n",
    "    }\n"
   ]
  },
  {
   "cell_type": "code",
   "execution_count": 31,
   "metadata": {},
   "outputs": [],
   "source": [
    "#converting dictionary to json\n",
    "json_data=json.dumps(transformed_data)"
   ]
  },
  {
   "cell_type": "code",
   "execution_count": 32,
   "metadata": {},
   "outputs": [
    {
     "name": "stdout",
     "output_type": "stream",
     "text": [
      "{\"Sale Date\": null, \"Transaction ID\": null, \"Sale Amount\": null, \"Discount Amount\": null, \"Tax Amount\": null, \"Final Sale Amount\": null, \"Sale Type\": null}\n"
     ]
    }
   ],
   "source": [
    "##displaying  data\n",
    "print(json_data)"
   ]
  },
  {
   "cell_type": "code",
   "execution_count": 34,
   "metadata": {},
   "outputs": [],
   "source": [
    "## importing sqlite3 and creating database\n",
    "import sqlite3\n",
    "conn=sqlite3.connect('sales_data.db')\n",
    "cursor=conn.cursor()\n",
    "\n"
   ]
  },
  {
   "cell_type": "code",
   "execution_count": 35,
   "metadata": {},
   "outputs": [
    {
     "data": {
      "text/plain": [
       "<sqlite3.Cursor at 0x15a1b0cbac0>"
      ]
     },
     "execution_count": 35,
     "metadata": {},
     "output_type": "execute_result"
    }
   ],
   "source": [
    "##table creation\n",
    "cursor.execute(\"\"\"\n",
    "CREATE TABLE IF NOT EXISTS sales_data (\n",
    "    id INTEGER PRIMARY KEY AUTOINCREMENT,\n",
    "    receipt_number TEXT,\n",
    "    sale_date TEXT,\n",
    "    transaction_time TEXT,\n",
    "    sale_amount REAL,\n",
    "    tax_amount REAL,\n",
    "    discount_amount REAL,\n",
    "    round_off REAL,\n",
    "    net_sale REAL,\n",
    "    payment_mode TEXT,\n",
    "    order_type TEXT,\n",
    "    transaction_status TEXT\n",
    ");\n",
    "\"\"\")\n"
   ]
  },
  {
   "cell_type": "code",
   "execution_count": 36,
   "metadata": {},
   "outputs": [
    {
     "data": {
      "text/plain": [
       "<sqlite3.Cursor at 0x15a1b0cbac0>"
      ]
     },
     "execution_count": 36,
     "metadata": {},
     "output_type": "execute_result"
    }
   ],
   "source": [
    "##insert query\n",
    "cursor.execute(\"\"\"INSERT INTO sales_data (receipt_number, sale_date, transaction_time, sale_amount, tax_amount, discount_amount, round_off, net_sale, payment_mode, order_type, transaction_status)\n",
    "VALUES ('12345', '2025-02-14', '10:30:00', 100, 5, 10, 0.5, 95.5, 'Credit Card', 'Dine-In', 'SALE');\n",
    "\"\"\")"
   ]
  },
  {
   "cell_type": "code",
   "execution_count": 37,
   "metadata": {},
   "outputs": [],
   "source": [
    "conn.commit()"
   ]
  },
  {
   "cell_type": "code",
   "execution_count": 38,
   "metadata": {},
   "outputs": [],
   "source": [
    "##fetching data query\n",
    "cursor.execute(\"SELECT * FROM sales_data\")\n",
    "rows = cursor.fetchall()"
   ]
  },
  {
   "cell_type": "code",
   "execution_count": 39,
   "metadata": {},
   "outputs": [
    {
     "name": "stdout",
     "output_type": "stream",
     "text": [
      "Data in sales_data table:\n",
      "(1, '12345', '2025-02-14', '10:30:00', 100.0, 5.0, 10.0, 0.5, 95.5, 'Credit Card', 'Dine-In', 'SALE')\n"
     ]
    }
   ],
   "source": [
    "print(\"Data in sales_data table:\")\n",
    "for row in rows:\n",
    "    print(row)\n",
    "\n"
   ]
  },
  {
   "cell_type": "code",
   "execution_count": null,
   "metadata": {},
   "outputs": [],
   "source": [
    "conn.close()## close sql connection"
   ]
  }
 ],
 "metadata": {
  "kernelspec": {
   "display_name": "base",
   "language": "python",
   "name": "python3"
  },
  "language_info": {
   "codemirror_mode": {
    "name": "ipython",
    "version": 3
   },
   "file_extension": ".py",
   "mimetype": "text/x-python",
   "name": "python",
   "nbconvert_exporter": "python",
   "pygments_lexer": "ipython3",
   "version": "3.10.9"
  }
 },
 "nbformat": 4,
 "nbformat_minor": 2
}
